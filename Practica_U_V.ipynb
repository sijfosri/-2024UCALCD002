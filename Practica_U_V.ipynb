{
  "nbformat": 4,
  "nbformat_minor": 0,
  "metadata": {
    "colab": {
      "provenance": [],
      "include_colab_link": true
    },
    "kernelspec": {
      "name": "python3",
      "display_name": "Python 3"
    },
    "language_info": {
      "name": "python"
    }
  },
  "cells": [
    {
      "cell_type": "markdown",
      "metadata": {
        "id": "view-in-github",
        "colab_type": "text"
      },
      "source": [
        "<a href=\"https://colab.research.google.com/github/sijfosri/-2024UCALCD002/blob/main/Practica_U_V.ipynb\" target=\"_parent\"><img src=\"https://colab.research.google.com/assets/colab-badge.svg\" alt=\"Open In Colab\"/></a>"
      ]
    },
    {
      "cell_type": "markdown",
      "source": [
        "# **Primer Modelo de Regresión Lineal**\n",
        "Habiendo creado su Notebook, nómbrelo con el nombre \"**Mi Primera regresión**\".\n",
        "\n",
        "Haga doble click sobre esta celda de Texto y compare la *presentación* (Ventana derecha), con la *edición* (ventana izquierda).\n",
        "\n",
        "Los modelos de **ML** (Machine Learning), a diferencia de la programación \"regular\", necesitan **datos**, estos **datos** son empleados para **aprender** y poder **inferir** dado que bajo este paradigma no se escriben reglas del tipo \"*si tal cosa, hacer tal otra*\", con **ML** las reglas se deducen de los **datos** a partir del empleo de diferentes algoritmos matemáticos que **aprenden** a partir de un conjunto de datos apropiados las **reglas**.\n",
        "Ahora vamos a trabajar en nuestro primer modelo de inferencia, un modelo de **regesión** con **ML** que nos ayude a determinar el equivalente en grados *fahrenheit* para cualquier posible valor dentro de la escala grados *Celsius*.\n"
      ],
      "metadata": {
        "id": "22RGFgD1Al0z"
      }
    },
    {
      "cell_type": "markdown",
      "source": [
        "# **Creando nuestra fuente de Datos para el entrenamiento y prendizaje**\n",
        "\n",
        "Como dijimos previamente, los modelos de **ML** no trabajan basándose en *reglas* escritas o establecidad por el desarrollador, los modelos de **ML** las deducen a partir de datos, encontrando relaciones entre las *características* y las *etiquetas* si estamos trbajando con un esquema de **Aprendizaje Supervisado** o si el esquema elegido es de **Aprendizaje No supervisado** hallando *correlacion* entre distintas *características*.\n",
        "En nuestro caso, que pretendemos construir un modelo que pueda predecir la temperatura en grados Fahrenheit a partir de grados Celsius, debemos crear un **set de datos** en formato **CSV** con una columna con diferentes *Características* en grados celsius y otra columna con sus respectivas *Etiquetas*. \\\\\n",
        "\n",
        "Celsius  Fahrenheit \\\\\n",
        "-40.......-40 \\\\\n",
        "-10....... 14 \\\\\n",
        "...0........32 \\\\\n",
        "...8........46.4 \\\\\n",
        ".22........71.6 \\\\\n",
        "\n",
        "Psae estos datos a un **Archivo** con formato **CSV** llamado **Datos.csv** y súbalo al **Almacenamiento de Sesión** de su Notebook en Colab \\\\\n"
      ],
      "metadata": {
        "id": "OoDYiy5EL-hu"
      }
    },
    {
      "cell_type": "markdown",
      "source": [
        "# **Declarar los Frameworks, librerías o APIs**\n",
        "\n",
        "Lo primero que debemos hacer en nuestro modelo es importar todas las librerías que vamos a emplear. \\\\\n",
        "**Pandas** es la primera que vamos a referenciar y como sabemos es un Framework que nos permite trabajar con datos en formato Tabular. Recuerde al importarla colocarle como alias \"**pd**\" \\\\\n",
        "**seaborn** es una biblioteca de visualización de datos basada en matplotlib, que proporciona una interfaz de alto nivel para crear gráficos estadísticos atractivos e informativos en Python. Está específicamente diseñado para trabajar con datos estructurados o tabulares, como los que suelen encontrarse en DataFrame de pandas. Recuerde al importarla colocarle como alias \"**sb**\" \\\\\n",
        "**sklearn**  es una biblioteca de visualización de datos de Python basada en matplotlib. Proporciona una interfaz de alto nivel para crear gráficos estadísticos atractivos e informativos. Seaborn es ampliamente utilizado en el análisis exploratorio de datos, visualización estadística y presentación de datos. Combina muy bien con Pandas para el manejo de datos y matplotlib para la personalización avanzada de gráficos. Es una biblioteca popular y poderosa en el ecosistema de Python para análisis de datos y visualización. En este caso no importaremos TODA la librería, solo necesitamos el modelo **LinearRegresion** y para ello deberá hacer primero  un *from* en lugar de un *import* para \"traer\" el módulo **lenear_model**\" y luego sí un *import* para importar **LinearRegresion** (todo en ua misma línea de código). \\\\\n",
        "\n",
        "Ejemplos de instrucciones Python de imports: \\\\\n",
        "\n",
        "\n",
        "```\n",
        "import requests as rq\n",
        "from sklearn.linear_model import LogisticRegression\n",
        "```\n",
        "\n",
        "Luego de esto debería quedarle una **celda** de **código** con tres librerías, **pandas**, **seaborn** y **sklearn**. \\\\\n",
        "\n",
        "\n",
        "\n"
      ],
      "metadata": {
        "id": "19PVH_es2vzV"
      }
    },
    {
      "cell_type": "code",
      "source": [
        "import pandas as pd\n",
        "import seaborn as sb\n",
        "from sklearn.linear_model import LinearRegression"
      ],
      "metadata": {
        "id": "6Q8qGi21SoUa"
      },
      "execution_count": 1,
      "outputs": []
    },
    {
      "cell_type": "code",
      "execution_count": null,
      "metadata": {
        "id": "f2rI-R41AkpE"
      },
      "outputs": [],
      "source": [
        "#Codigo Python con la sección de Imports"
      ]
    },
    {
      "cell_type": "markdown",
      "source": [
        "# **Analisemos los datos**\n",
        "Para poder hacer un analisis deberíamos contar con los datos en formato **tabular** para lo cual debemos pedirle a nuestro objeto **pandas** (llamado en nuestro ejemplo con el alias **pd**) que cargue el archivo **Datos.csv** en una variable llamada **datos**. \\\\\n",
        "ejemplo: \\\\\n",
        "\n",
        "```\n",
        "variable = alias_de_panda.read_csv('archivo_da_datos.csv')\n",
        "```\n",
        "Conociendo el formato de la sentencia, cree una celda de **código** y defina la variable **datos** y cárguela con el contenido del archivo \"**Datos.csv**. \\\\\n",
        "\n",
        "Ahora pídale al objeto **datos** que le brinde información del **set de datos** con el **método** \"\"**info()**\"\". \\\\\n",
        "```\n",
        "variable.metodo()\n",
        "```\n",
        "Continuemos analizando los datos y démosle un vistaxzo al conjunto de datos del Dataframe **datos** con el método **head()**\n",
        "\n",
        "Ahora inmediatamente debajo del la celda de código dónde se expusos la información relacionada al set de datos, cree una **celda de Texto**  y comente los resultados. \\\\\n",
        "\n",
        "\n",
        "\n",
        "\n"
      ],
      "metadata": {
        "id": "gQ14yxSIJnZA"
      }
    },
    {
      "cell_type": "markdown",
      "source": [
        "# **Ya creamos el set de datos ahora analicemos graficamente**\n",
        "\n",
        "Pare este análisis emplearemos el framework **seaborn** que en nuestro ejemplo denominamos con el alias **sb** y ejecutando el método **scaterplot()** \\\\\n",
        "\n",
        "```\n",
        "alias.scatterplot(x=\"Celsius\", y=\"Fahrenheit\", data=variable_con_el_dataframe) \\\\\n",
        "\n",
        "```\n",
        "Ejecute la celda y verifique la gráfica, ¿a qué se asemeja? \\\\\n",
        "\n",
        "Ahora hagamos que le valor de los puntos de la gráfica **dependa del valor de uno de los campos del dataframe**\n",
        "\n",
        "\n",
        "```\n",
        "alias.scatterplot(x=\"Celsius\", y=\"Fahrenheit\", data=variable_con_el_dataframe, hue=\"Fahrenheit\") \\\\\n",
        "\n",
        "```\n",
        " Verá como cambia el color y la graduación que va del morado al rosa. Pero podemos cambiarle la **paleta de colores** ya que **seaborn** tiene varias paletas par aofrecernos, probemos con la paleta \"**coolwarm**\" ejecute y vea el resultado del gráfico.\n",
        "\n",
        "```\n",
        "alias.scatterplot(x=\"Celsius\", y=\"Fahrenheit\", data=variable_con_el_dataframe, hue=\"Fahrenheit\", palette=\"coolwarm\") \\\\\n",
        "\n",
        "```\n",
        "\n",
        "\n",
        "\n",
        "\n",
        "\n",
        "\n"
      ],
      "metadata": {
        "id": "7ZyDr1KbH6Tn"
      }
    },
    {
      "cell_type": "code",
      "source": [],
      "metadata": {
        "id": "Rh26I-jhO7rs"
      },
      "execution_count": null,
      "outputs": []
    },
    {
      "cell_type": "markdown",
      "source": [
        "# **Ahora preparemos los datos**\n",
        "Como el problema planteado es bastante simple, sólo necesitaremos definir **caraterísticas (X)** y **etiquetas (Y) en dos variables. \\\\\n",
        "\n",
        "\n",
        "```\n",
        "X = variable_con_el_dataframe[\"Celsius\"]\n",
        "Y = variable_con_el_dataframe[\"Fahrenheit\"]\n",
        "```\n",
        "Hecho esto, ejecute la **celda de código** y ya tendrá cargados los datos de su dataframe.\n",
        "\n",
        "Pruebe ahora en otra **celda de código** mostrar el contenido de X e Y. Esto se hace simplemente escribiendo el nombre de la variable y ejecutando la celda.... Pruébelo por favor.\n",
        "\n",
        "Hecho esto escriba en una **celda de código** la sentencia:\n",
        "\n",
        "```\n",
        "type(X)\n",
        "```\n",
        "\n",
        "y verá que le responderá que el tipo es una **serie**\n",
        "**pandas.core.series.Series**\n",
        "\n",
        "y si escribimos esta otra sentencia y la ejecutamos\n",
        "\n",
        "```\n",
        "type(X.values)\n",
        "```\n",
        "verá que informará los **valores** que la variable contiene son un arreglo (array)\n",
        "**numpy.ndarray** \\\\\n",
        "\n",
        "Si ahora sólo escribe\n",
        "\n",
        "```\n",
        "X.values\n",
        "```\n",
        "\n",
        "verá los valores de el arreglo con el formato típico de una lista:\n",
        "\n",
        "```\n",
        "array([-40, -10, 0, 8, 15, 22, 38])\n",
        "```\n",
        "\n",
        " Pero nosotros necesitmaos un formato un poquito distinto, nosotros necesitamos que en lugar de valores atómicos, haya **arreglos en cada posición**: \\\\\n",
        "\n",
        "```\n",
        "array([[-40], [-10], [0], [8], [15], [22], [38]])\n",
        "```\n",
        "\n",
        "Por esto nosotros redefiniremos la variable con el *método* **Reshape()** y la asignaremos a una variable llamada \"**X_procesada**\" y haga lo mismo con la **Y**.\n",
        "\n",
        " ```\n",
        "X_procesada = X.values.reshape(-1,1)\n",
        "```\n",
        "Ejecute la instrucción y verá cómo cambió le formato del array, con cada uno de los valores en su **propio array**. \\\\\n"
      ],
      "metadata": {
        "id": "5N2wTCdKRTKj"
      }
    },
    {
      "cell_type": "markdown",
      "source": [
        "# **Ahora procederemos a crear nuestro Modelo de Regresión lineal**\n",
        "\n",
        "Esto es muy simple con Python, asígnele a una *variable* llamada **modelo** el modelo de **sklearn** importado para este trabajo **LinearRegression**. \\\\\n",
        "\n",
        "```\n",
        "modelo = Modelo_Importado_de_sklearn()\n",
        "```\n",
        "Ejecute la celda. Ya teneoms el modelo pero hecho esto, nosotros aún no podemos utilizarlo. **¿porqué?** \\\\\n",
        "\n",
        "**Cree una celda de texto y comente por que.**\n",
        "\n"
      ],
      "metadata": {
        "id": "0S4Uo21yXFr0"
      }
    },
    {
      "cell_type": "markdown",
      "source": [
        "# **Entrenamiento del Modelo**\n",
        "\n",
        "El entrenamiento en este caso es muy simple, solo debemos darle la **X_procesada** y la **Y_procesada**\n",
        "\n",
        "```\n",
        "modelo.fit(X_procesada, Y_procesada)\n",
        "```\n",
        "Ejecute la celda para que entrene el modelo. \\\\\n",
        "\n",
        "\n"
      ],
      "metadata": {
        "id": "FXmOepZeZFRE"
      }
    },
    {
      "cell_type": "markdown",
      "source": [
        "# **EMpecemos a hacer Predicciones**\n",
        "\n",
        "Ingrese por teclado un valor de temperatura en grados celsius\n",
        "\n",
        "```\n",
        "grados_celsius= float(input(\"Ingrese un valor en grados Celsius: \"))\n",
        "```\n",
        "y verifique si el modelo aprendió mostrando el resultado en grados Faherenheit predicho. El modelo predice ejecutando el *método* **predict()** de la variable **modelo**. \\\\\n",
        "Cargue el resultado en una variable llamada **prediccion**\n",
        "Ejemplo: \\\\\n",
        "\n",
        "```\n",
        "prediccion = modelo.predict([[grados_celsius]])\n",
        "```\n",
        "\n",
        "Ejecute la **celda de código**, registre y verifique con alguna fuente valida distinta del modelo, ejemplo, algun [conversor de grados en internet](https://www.rapidtables.org/convert/temperature/celsius-to-fahrenheit.html).\n",
        "\n",
        "Si Usted verifica la precisión del modelo con el *método* **score()** verá que que el modelo es sumanente preciso.\n",
        "\n",
        "```\n",
        "modelo.score(X_procesada, Y_procesada)\n",
        "```\n",
        "\n",
        "\n",
        "Puede incluir una línea de impresion del tipo\n",
        "\n",
        "```\n",
        "print(f\"{grados_celsius} grados celsius son {prediccion} grados faherenheit\")  \n",
        "```\n",
        "\n",
        "\n"
      ],
      "metadata": {
        "id": "5wH-CfKjanFa"
      }
    }
  ]
}